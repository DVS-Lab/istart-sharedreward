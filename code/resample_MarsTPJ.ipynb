{
 "cells": [
  {
   "cell_type": "code",
   "execution_count": 8,
   "metadata": {},
   "outputs": [],
   "source": [
    "import numpy as np\n",
    "import nibabel as nib\n",
    "from nilearn.image import resample_to_img\n",
    "import os\n",
    "\n",
    "os.chdir('/data/projects/istart-sharedreward/code')"
   ]
  },
  {
   "cell_type": "code",
   "execution_count": 13,
   "metadata": {},
   "outputs": [],
   "source": [
    "resampled_pTPJ = resample_to_img('../masks/seed-pTPJ-thr50-2mm.nii', '../derivatives/fsl/L3_model-2_task-sharedreward_n45_flame1_SFN_edition/L3_task-sharedreward_type-ppi_seed-VS_thr5_cnum-04_cname-F_rew_onegroup.gfeat/cope1.feat/filtered_func_data.nii', interpolation='nearest')\n",
    "resampled_aTPJ = resample_to_img('../masks/seed-aTPJ-thr50-2mm.nii', '../derivatives/fsl/L3_model-2_task-sharedreward_n45_flame1_SFN_edition/L3_task-sharedreward_type-ppi_seed-VS_thr5_cnum-04_cname-F_rew_onegroup.gfeat/cope1.feat/filtered_func_data.nii', interpolation='nearest')"
   ]
  },
  {
   "cell_type": "code",
   "execution_count": 14,
   "metadata": {},
   "outputs": [],
   "source": [
    "nib.save(resampled_pTPJ, '../masks/resampled_pTPJ-thr50-2mm.nii')\n",
    "nib.save(resampled_aTPJ, '../masks/resampled_aTPJ-thr50-2mm.nii')"
   ]
  },
  {
   "cell_type": "code",
   "execution_count": null,
   "metadata": {},
   "outputs": [],
   "source": []
  }
 ],
 "metadata": {
  "kernelspec": {
   "display_name": "Python 3",
   "language": "python",
   "name": "python3"
  },
  "language_info": {
   "codemirror_mode": {
    "name": "ipython",
    "version": 3
   },
   "file_extension": ".py",
   "mimetype": "text/x-python",
   "name": "python",
   "nbconvert_exporter": "python",
   "pygments_lexer": "ipython3",
   "version": "3.8.5"
  }
 },
 "nbformat": 4,
 "nbformat_minor": 4
}
